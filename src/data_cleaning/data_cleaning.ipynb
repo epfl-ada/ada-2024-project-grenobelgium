{
 "cells": [
  {
   "cell_type": "code",
   "execution_count": 1,
   "metadata": {},
   "outputs": [],
   "source": [
    "import pandas as pd\n",
    "import matplotlib.pyplot as plt\n",
    "import seaborn as sns\n",
    "import db_connection\n",
    "import db_methods"
   ]
  },
  {
   "cell_type": "code",
   "execution_count": 2,
   "metadata": {},
   "outputs": [],
   "source": [
    "MongoDB connection\n",
    "channels_data_collection = db_connection.connect_to_mongodb(\"Channel Data\")\n",
    "channels_data = db_methods.retrieve_all_channels_from_mongodb(channels_data_collection)"
   ]
  },
  {
   "cell_type": "markdown",
   "metadata": {},
   "source": [
    "# I. Channels Dataset Data Cleaning"
   ]
  },
  {
   "cell_type": "markdown",
   "metadata": {},
   "source": [
    "The following steps will focus on data preprocessing of the dataset Channels to prepare it for further analysis."
   ]
  },
  {
   "cell_type": "code",
   "execution_count": 6,
   "metadata": {},
   "outputs": [],
   "source": [
    "cleaned_channels = channels_data.copy()"
   ]
  },
  {
   "cell_type": "markdown",
   "metadata": {},
   "source": [
    "First let's see the information about the dataset, is there some missing values."
   ]
  },
  {
   "cell_type": "code",
   "execution_count": 7,
   "metadata": {},
   "outputs": [
    {
     "name": "stdout",
     "output_type": "stream",
     "text": [
      "<class 'pandas.core.frame.DataFrame'>\n",
      "RangeIndex: 156977 entries, 0 to 156976\n",
      "Data columns (total 7 columns):\n",
      " #   Column              Non-Null Count   Dtype  \n",
      "---  ------              --------------   -----  \n",
      " 0   category_cc         156846 non-null  object \n",
      " 1   join_date           156976 non-null  object \n",
      " 2   channel             156977 non-null  object \n",
      " 3   name_cc             156965 non-null  object \n",
      " 4   subscribers_cc      156977 non-null  int64  \n",
      " 5   videos_cc           156977 non-null  int64  \n",
      " 6   subscriber_rank_sb  153330 non-null  float64\n",
      "dtypes: float64(1), int64(2), object(4)\n",
      "memory usage: 8.4+ MB\n"
     ]
    }
   ],
   "source": [
    "cleaned_channels.info()"
   ]
  },
  {
   "cell_type": "markdown",
   "metadata": {},
   "source": [
    "As we can see here, the columns **category_cc**, **join_date**, **name_cc**, and **subscriber_rank_sb** have missing values. The **subscriber_rank_sb** column is of type float64 instead of int64. We should also consider converting the **join_date** column to a pd.datetime type."
   ]
  },
  {
   "cell_type": "markdown",
   "metadata": {},
   "source": [
    "### 1. join_date column"
   ]
  },
  {
   "cell_type": "code",
   "execution_count": 9,
   "metadata": {},
   "outputs": [
    {
     "data": {
      "text/html": [
       "<div>\n",
       "<style scoped>\n",
       "    .dataframe tbody tr th:only-of-type {\n",
       "        vertical-align: middle;\n",
       "    }\n",
       "\n",
       "    .dataframe tbody tr th {\n",
       "        vertical-align: top;\n",
       "    }\n",
       "\n",
       "    .dataframe thead th {\n",
       "        text-align: right;\n",
       "    }\n",
       "</style>\n",
       "<table border=\"1\" class=\"dataframe\">\n",
       "  <thead>\n",
       "    <tr style=\"text-align: right;\">\n",
       "      <th></th>\n",
       "      <th>category_cc</th>\n",
       "      <th>join_date</th>\n",
       "      <th>channel</th>\n",
       "      <th>name_cc</th>\n",
       "      <th>subscribers_cc</th>\n",
       "      <th>videos_cc</th>\n",
       "      <th>subscriber_rank_sb</th>\n",
       "    </tr>\n",
       "  </thead>\n",
       "  <tbody>\n",
       "    <tr>\n",
       "      <th>33540</th>\n",
       "      <td>Entertainment</td>\n",
       "      <td>NaN</td>\n",
       "      <td>UCBR8-60-B28hp2BmDPdntcQ</td>\n",
       "      <td>YouTube</td>\n",
       "      <td>28200000</td>\n",
       "      <td>301</td>\n",
       "      <td>110.0</td>\n",
       "    </tr>\n",
       "  </tbody>\n",
       "</table>\n",
       "</div>"
      ],
      "text/plain": [
       "         category_cc join_date                   channel  name_cc  \\\n",
       "33540  Entertainment       NaN  UCBR8-60-B28hp2BmDPdntcQ  YouTube   \n",
       "\n",
       "       subscribers_cc  videos_cc  subscriber_rank_sb  \n",
       "33540        28200000        301               110.0  "
      ]
     },
     "execution_count": 9,
     "metadata": {},
     "output_type": "execute_result"
    }
   ],
   "source": [
    "    # Show to lines with missing value of join_data\n",
    "cleaned_channels[cleaned_channels['join_date'].isna()]"
   ]
  },
  {
   "cell_type": "markdown",
   "metadata": {},
   "source": [
    "There is only one missing value, so we can drop it."
   ]
  },
  {
   "cell_type": "code",
   "execution_count": 10,
   "metadata": {},
   "outputs": [],
   "source": [
    "cleaned_channels.drop(33540, inplace=True)"
   ]
  },
  {
   "cell_type": "markdown",
   "metadata": {},
   "source": [
    "### 2. name_cc column"
   ]
  },
  {
   "cell_type": "code",
   "execution_count": 13,
   "metadata": {},
   "outputs": [
    {
     "data": {
      "text/html": [
       "<div>\n",
       "<style scoped>\n",
       "    .dataframe tbody tr th:only-of-type {\n",
       "        vertical-align: middle;\n",
       "    }\n",
       "\n",
       "    .dataframe tbody tr th {\n",
       "        vertical-align: top;\n",
       "    }\n",
       "\n",
       "    .dataframe thead th {\n",
       "        text-align: right;\n",
       "    }\n",
       "</style>\n",
       "<table border=\"1\" class=\"dataframe\">\n",
       "  <thead>\n",
       "    <tr style=\"text-align: right;\">\n",
       "      <th></th>\n",
       "      <th>category_cc</th>\n",
       "      <th>join_date</th>\n",
       "      <th>channel</th>\n",
       "      <th>name_cc</th>\n",
       "      <th>subscribers_cc</th>\n",
       "      <th>videos_cc</th>\n",
       "      <th>subscriber_rank_sb</th>\n",
       "    </tr>\n",
       "  </thead>\n",
       "  <tbody>\n",
       "    <tr>\n",
       "      <th>8231</th>\n",
       "      <td>Entertainment</td>\n",
       "      <td>2014-01-01</td>\n",
       "      <td>UCMzbrcOG-edOxonhLbsOD4Q</td>\n",
       "      <td>NaN</td>\n",
       "      <td>112543</td>\n",
       "      <td>118</td>\n",
       "      <td>140756.0</td>\n",
       "    </tr>\n",
       "    <tr>\n",
       "      <th>8232</th>\n",
       "      <td>Gaming</td>\n",
       "      <td>2015-02-01</td>\n",
       "      <td>UCJIYgIBaQt0YcGO73VCLPyg</td>\n",
       "      <td>NaN</td>\n",
       "      <td>57000</td>\n",
       "      <td>180</td>\n",
       "      <td>266879.0</td>\n",
       "    </tr>\n",
       "    <tr>\n",
       "      <th>8233</th>\n",
       "      <td>Entertainment</td>\n",
       "      <td>2007-03-27</td>\n",
       "      <td>UCp5Tpg0lLGtsG88CvUKey_A</td>\n",
       "      <td>NaN</td>\n",
       "      <td>12400</td>\n",
       "      <td>362</td>\n",
       "      <td>789457.0</td>\n",
       "    </tr>\n",
       "    <tr>\n",
       "      <th>8234</th>\n",
       "      <td>Entertainment</td>\n",
       "      <td>2016-07-09</td>\n",
       "      <td>UCmOiT9ZnSvLZ1XMBFjGiNmQ</td>\n",
       "      <td>NaN</td>\n",
       "      <td>55100</td>\n",
       "      <td>26</td>\n",
       "      <td>249430.0</td>\n",
       "    </tr>\n",
       "    <tr>\n",
       "      <th>8235</th>\n",
       "      <td>Film and Animation</td>\n",
       "      <td>2016-09-27</td>\n",
       "      <td>UChiZ8VX_WjTGvhpxHub16_A</td>\n",
       "      <td>NaN</td>\n",
       "      <td>31600</td>\n",
       "      <td>55</td>\n",
       "      <td>349306.0</td>\n",
       "    </tr>\n",
       "    <tr>\n",
       "      <th>8236</th>\n",
       "      <td>Entertainment</td>\n",
       "      <td>2009-03-12</td>\n",
       "      <td>UCgtijEzltp6pTR6ezYCwUQQ</td>\n",
       "      <td>NaN</td>\n",
       "      <td>16500</td>\n",
       "      <td>59</td>\n",
       "      <td>662889.0</td>\n",
       "    </tr>\n",
       "    <tr>\n",
       "      <th>8237</th>\n",
       "      <td>Gaming</td>\n",
       "      <td>2016-05-26</td>\n",
       "      <td>UCv_OpX7RULreDQOhZlVLuUw</td>\n",
       "      <td>NaN</td>\n",
       "      <td>11000</td>\n",
       "      <td>108</td>\n",
       "      <td>929597.0</td>\n",
       "    </tr>\n",
       "    <tr>\n",
       "      <th>8238</th>\n",
       "      <td>Music</td>\n",
       "      <td>2011-12-31</td>\n",
       "      <td>UCA67sOj4L0qlqOHQZsmUhVw</td>\n",
       "      <td>NaN</td>\n",
       "      <td>15200</td>\n",
       "      <td>68</td>\n",
       "      <td>736183.0</td>\n",
       "    </tr>\n",
       "    <tr>\n",
       "      <th>8239</th>\n",
       "      <td>Entertainment</td>\n",
       "      <td>2007-12-04</td>\n",
       "      <td>UCYj8nTwafpwx0T8wKkWuwag</td>\n",
       "      <td>NaN</td>\n",
       "      <td>42000</td>\n",
       "      <td>10</td>\n",
       "      <td>338910.0</td>\n",
       "    </tr>\n",
       "    <tr>\n",
       "      <th>8240</th>\n",
       "      <td>Music</td>\n",
       "      <td>2011-08-26</td>\n",
       "      <td>UCq-68gzHO5ulmrZ2tW-jyTg</td>\n",
       "      <td>NaN</td>\n",
       "      <td>19800</td>\n",
       "      <td>390</td>\n",
       "      <td>535474.0</td>\n",
       "    </tr>\n",
       "    <tr>\n",
       "      <th>8241</th>\n",
       "      <td>People &amp; Blogs</td>\n",
       "      <td>2018-02-14</td>\n",
       "      <td>UCu1qVmyKRk8SF02e-Ez4o5w</td>\n",
       "      <td>NaN</td>\n",
       "      <td>19200</td>\n",
       "      <td>32</td>\n",
       "      <td>581634.0</td>\n",
       "    </tr>\n",
       "    <tr>\n",
       "      <th>8242</th>\n",
       "      <td>Entertainment</td>\n",
       "      <td>2015-07-30</td>\n",
       "      <td>UCInBv6ByaxgOXxfddyC7B3g</td>\n",
       "      <td>NaN</td>\n",
       "      <td>105000</td>\n",
       "      <td>32</td>\n",
       "      <td>155045.0</td>\n",
       "    </tr>\n",
       "  </tbody>\n",
       "</table>\n",
       "</div>"
      ],
      "text/plain": [
       "             category_cc   join_date                   channel name_cc  \\\n",
       "8231       Entertainment  2014-01-01  UCMzbrcOG-edOxonhLbsOD4Q     NaN   \n",
       "8232              Gaming  2015-02-01  UCJIYgIBaQt0YcGO73VCLPyg     NaN   \n",
       "8233       Entertainment  2007-03-27  UCp5Tpg0lLGtsG88CvUKey_A     NaN   \n",
       "8234       Entertainment  2016-07-09  UCmOiT9ZnSvLZ1XMBFjGiNmQ     NaN   \n",
       "8235  Film and Animation  2016-09-27  UChiZ8VX_WjTGvhpxHub16_A     NaN   \n",
       "8236       Entertainment  2009-03-12  UCgtijEzltp6pTR6ezYCwUQQ     NaN   \n",
       "8237              Gaming  2016-05-26  UCv_OpX7RULreDQOhZlVLuUw     NaN   \n",
       "8238               Music  2011-12-31  UCA67sOj4L0qlqOHQZsmUhVw     NaN   \n",
       "8239       Entertainment  2007-12-04  UCYj8nTwafpwx0T8wKkWuwag     NaN   \n",
       "8240               Music  2011-08-26  UCq-68gzHO5ulmrZ2tW-jyTg     NaN   \n",
       "8241      People & Blogs  2018-02-14  UCu1qVmyKRk8SF02e-Ez4o5w     NaN   \n",
       "8242       Entertainment  2015-07-30  UCInBv6ByaxgOXxfddyC7B3g     NaN   \n",
       "\n",
       "      subscribers_cc  videos_cc  subscriber_rank_sb  \n",
       "8231          112543        118            140756.0  \n",
       "8232           57000        180            266879.0  \n",
       "8233           12400        362            789457.0  \n",
       "8234           55100         26            249430.0  \n",
       "8235           31600         55            349306.0  \n",
       "8236           16500         59            662889.0  \n",
       "8237           11000        108            929597.0  \n",
       "8238           15200         68            736183.0  \n",
       "8239           42000         10            338910.0  \n",
       "8240           19800        390            535474.0  \n",
       "8241           19200         32            581634.0  \n",
       "8242          105000         32            155045.0  "
      ]
     },
     "execution_count": 13,
     "metadata": {},
     "output_type": "execute_result"
    }
   ],
   "source": [
    "    # Show to lines with missing value of name_cc\n",
    "cleaned_channels[cleaned_channels['name_cc'].isna()]"
   ]
  },
  {
   "cell_type": "markdown",
   "metadata": {},
   "source": [
    "There are 12 rows with channels that don't have a name, so we can drop them."
   ]
  },
  {
   "cell_type": "code",
   "execution_count": 14,
   "metadata": {},
   "outputs": [],
   "source": [
    "cleaned_channels['name_cc'].fillna('unknown name', inplace=True)"
   ]
  },
  {
   "cell_type": "markdown",
   "metadata": {},
   "source": [
    "### 3. category_cc column"
   ]
  },
  {
   "cell_type": "code",
   "execution_count": 17,
   "metadata": {},
   "outputs": [
    {
     "data": {
      "text/html": [
       "<div>\n",
       "<style scoped>\n",
       "    .dataframe tbody tr th:only-of-type {\n",
       "        vertical-align: middle;\n",
       "    }\n",
       "\n",
       "    .dataframe tbody tr th {\n",
       "        vertical-align: top;\n",
       "    }\n",
       "\n",
       "    .dataframe thead th {\n",
       "        text-align: right;\n",
       "    }\n",
       "</style>\n",
       "<table border=\"1\" class=\"dataframe\">\n",
       "  <thead>\n",
       "    <tr style=\"text-align: right;\">\n",
       "      <th></th>\n",
       "      <th>category_cc</th>\n",
       "      <th>join_date</th>\n",
       "      <th>channel</th>\n",
       "      <th>name_cc</th>\n",
       "      <th>subscribers_cc</th>\n",
       "      <th>videos_cc</th>\n",
       "      <th>subscriber_rank_sb</th>\n",
       "    </tr>\n",
       "  </thead>\n",
       "  <tbody>\n",
       "    <tr>\n",
       "      <th>3100</th>\n",
       "      <td>NaN</td>\n",
       "      <td>2011-11-10</td>\n",
       "      <td>UCUC0f5Lu42bIi9IClnYP4zw</td>\n",
       "      <td>PixarMoviesOnDemand</td>\n",
       "      <td>138000</td>\n",
       "      <td>16</td>\n",
       "      <td>126929.0</td>\n",
       "    </tr>\n",
       "    <tr>\n",
       "      <th>5002</th>\n",
       "      <td>NaN</td>\n",
       "      <td>2006-04-08</td>\n",
       "      <td>UCJdx55eTMBJI9dwuP65xcSg</td>\n",
       "      <td>nevake</td>\n",
       "      <td>28600</td>\n",
       "      <td>9168</td>\n",
       "      <td>444224.0</td>\n",
       "    </tr>\n",
       "    <tr>\n",
       "      <th>5113</th>\n",
       "      <td>NaN</td>\n",
       "      <td>2016-07-24</td>\n",
       "      <td>UCfL3FVHRncVVoBnVI_EI8vw</td>\n",
       "      <td>spoiled milk</td>\n",
       "      <td>10600</td>\n",
       "      <td>33</td>\n",
       "      <td>938514.0</td>\n",
       "    </tr>\n",
       "    <tr>\n",
       "      <th>5143</th>\n",
       "      <td>NaN</td>\n",
       "      <td>2014-02-17</td>\n",
       "      <td>UCDhrs5GhG2t1Ov3oya3K4tg</td>\n",
       "      <td>TwitchPlaysPokemon</td>\n",
       "      <td>10300</td>\n",
       "      <td>342</td>\n",
       "      <td>977938.0</td>\n",
       "    </tr>\n",
       "    <tr>\n",
       "      <th>5638</th>\n",
       "      <td>NaN</td>\n",
       "      <td>2007-05-29</td>\n",
       "      <td>UCBgt-JTMivpgj-sHaea6M-Q</td>\n",
       "      <td>New Music</td>\n",
       "      <td>22800</td>\n",
       "      <td>398</td>\n",
       "      <td>507809.0</td>\n",
       "    </tr>\n",
       "    <tr>\n",
       "      <th>...</th>\n",
       "      <td>...</td>\n",
       "      <td>...</td>\n",
       "      <td>...</td>\n",
       "      <td>...</td>\n",
       "      <td>...</td>\n",
       "      <td>...</td>\n",
       "      <td>...</td>\n",
       "    </tr>\n",
       "    <tr>\n",
       "      <th>146651</th>\n",
       "      <td>NaN</td>\n",
       "      <td>2013-04-09</td>\n",
       "      <td>UC-jhZdJL4gDmATXCqMkM7pA</td>\n",
       "      <td>EtherealExposition</td>\n",
       "      <td>16435</td>\n",
       "      <td>63</td>\n",
       "      <td>631214.0</td>\n",
       "    </tr>\n",
       "    <tr>\n",
       "      <th>149433</th>\n",
       "      <td>NaN</td>\n",
       "      <td>2006-05-12</td>\n",
       "      <td>UCVEfyEuLJpgw_y4jSgV8Rtg</td>\n",
       "      <td>lonelygirl15</td>\n",
       "      <td>173903</td>\n",
       "      <td>396</td>\n",
       "      <td>100037.0</td>\n",
       "    </tr>\n",
       "    <tr>\n",
       "      <th>150554</th>\n",
       "      <td>NaN</td>\n",
       "      <td>2011-06-14</td>\n",
       "      <td>UC_3JbOmL48TMal015yX13Iw</td>\n",
       "      <td>FyreUK [ARCHIVE]</td>\n",
       "      <td>303000</td>\n",
       "      <td>466</td>\n",
       "      <td>60223.0</td>\n",
       "    </tr>\n",
       "    <tr>\n",
       "      <th>151278</th>\n",
       "      <td>NaN</td>\n",
       "      <td>2008-11-17</td>\n",
       "      <td>UCEPE1gwLMgNmTFQSSfXAIcg</td>\n",
       "      <td>Danielle Lowe</td>\n",
       "      <td>36300</td>\n",
       "      <td>78</td>\n",
       "      <td>346694.0</td>\n",
       "    </tr>\n",
       "    <tr>\n",
       "      <th>152428</th>\n",
       "      <td>NaN</td>\n",
       "      <td>2017-01-31</td>\n",
       "      <td>UCVlOUVuzEmaDHG81PeuKnsA</td>\n",
       "      <td>samsa</td>\n",
       "      <td>38100</td>\n",
       "      <td>26</td>\n",
       "      <td>327576.0</td>\n",
       "    </tr>\n",
       "  </tbody>\n",
       "</table>\n",
       "<p>131 rows × 7 columns</p>\n",
       "</div>"
      ],
      "text/plain": [
       "       category_cc   join_date                   channel              name_cc  \\\n",
       "3100           NaN  2011-11-10  UCUC0f5Lu42bIi9IClnYP4zw  PixarMoviesOnDemand   \n",
       "5002           NaN  2006-04-08  UCJdx55eTMBJI9dwuP65xcSg               nevake   \n",
       "5113           NaN  2016-07-24  UCfL3FVHRncVVoBnVI_EI8vw         spoiled milk   \n",
       "5143           NaN  2014-02-17  UCDhrs5GhG2t1Ov3oya3K4tg   TwitchPlaysPokemon   \n",
       "5638           NaN  2007-05-29  UCBgt-JTMivpgj-sHaea6M-Q            New Music   \n",
       "...            ...         ...                       ...                  ...   \n",
       "146651         NaN  2013-04-09  UC-jhZdJL4gDmATXCqMkM7pA   EtherealExposition   \n",
       "149433         NaN  2006-05-12  UCVEfyEuLJpgw_y4jSgV8Rtg         lonelygirl15   \n",
       "150554         NaN  2011-06-14  UC_3JbOmL48TMal015yX13Iw     FyreUK [ARCHIVE]   \n",
       "151278         NaN  2008-11-17  UCEPE1gwLMgNmTFQSSfXAIcg        Danielle Lowe   \n",
       "152428         NaN  2017-01-31  UCVlOUVuzEmaDHG81PeuKnsA                samsa   \n",
       "\n",
       "        subscribers_cc  videos_cc  subscriber_rank_sb  \n",
       "3100            138000         16            126929.0  \n",
       "5002             28600       9168            444224.0  \n",
       "5113             10600         33            938514.0  \n",
       "5143             10300        342            977938.0  \n",
       "5638             22800        398            507809.0  \n",
       "...                ...        ...                 ...  \n",
       "146651           16435         63            631214.0  \n",
       "149433          173903        396            100037.0  \n",
       "150554          303000        466             60223.0  \n",
       "151278           36300         78            346694.0  \n",
       "152428           38100         26            327576.0  \n",
       "\n",
       "[131 rows x 7 columns]"
      ]
     },
     "execution_count": 17,
     "metadata": {},
     "output_type": "execute_result"
    }
   ],
   "source": [
    "    # Show to lines with missing value of category_cc\n",
    "cleaned_channels[cleaned_channels['category_cc'].isna()]"
   ]
  },
  {
   "cell_type": "markdown",
   "metadata": {},
   "source": [
    "As we can see, there are 131 rows without a category. Let's investigate what percentage this represents."
   ]
  },
  {
   "cell_type": "code",
   "execution_count": 87,
   "metadata": {},
   "outputs": [
    {
     "name": "stdout",
     "output_type": "stream",
     "text": [
      "the channels with unknown category represent : 0.083%\n"
     ]
    }
   ],
   "source": [
    "print(f'the channels with unknown category represent : {round(13100/len(channels_data), 3)}%')"
   ]
  },
  {
   "cell_type": "markdown",
   "metadata": {},
   "source": [
    "The **channels with unknown category** represent **less than 0.01%** of the total data, we can drop them."
   ]
  },
  {
   "cell_type": "code",
   "execution_count": 20,
   "metadata": {},
   "outputs": [],
   "source": [
    "cleaned_channels = cleaned_channels[cleaned_channels['category_cc'].notna()]"
   ]
  },
  {
   "cell_type": "markdown",
   "metadata": {},
   "source": [
    "### 4. subscriber_rank_sb column"
   ]
  },
  {
   "cell_type": "code",
   "execution_count": 23,
   "metadata": {},
   "outputs": [
    {
     "data": {
      "text/html": [
       "<div>\n",
       "<style scoped>\n",
       "    .dataframe tbody tr th:only-of-type {\n",
       "        vertical-align: middle;\n",
       "    }\n",
       "\n",
       "    .dataframe tbody tr th {\n",
       "        vertical-align: top;\n",
       "    }\n",
       "\n",
       "    .dataframe thead th {\n",
       "        text-align: right;\n",
       "    }\n",
       "</style>\n",
       "<table border=\"1\" class=\"dataframe\">\n",
       "  <thead>\n",
       "    <tr style=\"text-align: right;\">\n",
       "      <th></th>\n",
       "      <th>category_cc</th>\n",
       "      <th>join_date</th>\n",
       "      <th>channel</th>\n",
       "      <th>name_cc</th>\n",
       "      <th>subscribers_cc</th>\n",
       "      <th>videos_cc</th>\n",
       "      <th>subscriber_rank_sb</th>\n",
       "    </tr>\n",
       "  </thead>\n",
       "  <tbody>\n",
       "    <tr>\n",
       "      <th>29058</th>\n",
       "      <td>Music</td>\n",
       "      <td>2006-03-13</td>\n",
       "      <td>UCq-Fj5jknLsUf-MWSy4_brA</td>\n",
       "      <td>T-Series</td>\n",
       "      <td>112139463</td>\n",
       "      <td>13839</td>\n",
       "      <td>102.0</td>\n",
       "    </tr>\n",
       "    <tr>\n",
       "      <th>16032</th>\n",
       "      <td>Gaming</td>\n",
       "      <td>2010-04-29</td>\n",
       "      <td>UC-lHJZR3Gqxm24_Vd_AJ5Yw</td>\n",
       "      <td>PewDiePie</td>\n",
       "      <td>101000000</td>\n",
       "      <td>3956</td>\n",
       "      <td>3.0</td>\n",
       "    </tr>\n",
       "    <tr>\n",
       "      <th>43231</th>\n",
       "      <td>Howto &amp; Style</td>\n",
       "      <td>2016-11-15</td>\n",
       "      <td>UC295-Dw_tDNtZXFeAPAW6Aw</td>\n",
       "      <td>5-Minute Crafts</td>\n",
       "      <td>60600000</td>\n",
       "      <td>3591</td>\n",
       "      <td>9.0</td>\n",
       "    </tr>\n",
       "    <tr>\n",
       "      <th>35502</th>\n",
       "      <td>Education</td>\n",
       "      <td>2006-09-01</td>\n",
       "      <td>UCbCmjCuTUZos6Inko4u57UQ</td>\n",
       "      <td>Cocomelon - Nursery ...</td>\n",
       "      <td>60100000</td>\n",
       "      <td>458</td>\n",
       "      <td>7.0</td>\n",
       "    </tr>\n",
       "    <tr>\n",
       "      <th>40878</th>\n",
       "      <td>Entertainment</td>\n",
       "      <td>2006-09-20</td>\n",
       "      <td>UCpEhnqL0y41EpW2TvWAHD7Q</td>\n",
       "      <td>SET India</td>\n",
       "      <td>56018869</td>\n",
       "      <td>32661</td>\n",
       "      <td>8.0</td>\n",
       "    </tr>\n",
       "    <tr>\n",
       "      <th>...</th>\n",
       "      <td>...</td>\n",
       "      <td>...</td>\n",
       "      <td>...</td>\n",
       "      <td>...</td>\n",
       "      <td>...</td>\n",
       "      <td>...</td>\n",
       "      <td>...</td>\n",
       "    </tr>\n",
       "    <tr>\n",
       "      <th>80084</th>\n",
       "      <td>Music</td>\n",
       "      <td>2017-07-27</td>\n",
       "      <td>UCbKqo5ccPuQad_17MoSxpvw</td>\n",
       "      <td>Ayanami</td>\n",
       "      <td>10000</td>\n",
       "      <td>20</td>\n",
       "      <td>876195.0</td>\n",
       "    </tr>\n",
       "    <tr>\n",
       "      <th>152522</th>\n",
       "      <td>Entertainment</td>\n",
       "      <td>2014-05-02</td>\n",
       "      <td>UC-AKZXBB30O4ZM5zVLGUPCg</td>\n",
       "      <td>ArabianRider</td>\n",
       "      <td>10000</td>\n",
       "      <td>212</td>\n",
       "      <td>977030.0</td>\n",
       "    </tr>\n",
       "    <tr>\n",
       "      <th>118797</th>\n",
       "      <td>Music</td>\n",
       "      <td>2011-08-27</td>\n",
       "      <td>UCVXWrVUv_Pbt24btuuIDvqw</td>\n",
       "      <td>Densle</td>\n",
       "      <td>10000</td>\n",
       "      <td>60</td>\n",
       "      <td>944207.0</td>\n",
       "    </tr>\n",
       "    <tr>\n",
       "      <th>13068</th>\n",
       "      <td>Music</td>\n",
       "      <td>2016-04-30</td>\n",
       "      <td>UCu4TumUmUdU_YmbSuvEOvNg</td>\n",
       "      <td>Trailer Music Empire...</td>\n",
       "      <td>10000</td>\n",
       "      <td>157</td>\n",
       "      <td>812348.0</td>\n",
       "    </tr>\n",
       "    <tr>\n",
       "      <th>10450</th>\n",
       "      <td>Entertainment</td>\n",
       "      <td>2016-07-09</td>\n",
       "      <td>UC0NKhQKs2rsCAeoQCGTHOHQ</td>\n",
       "      <td>A'mari DJ Mona-Lisa</td>\n",
       "      <td>10000</td>\n",
       "      <td>1483</td>\n",
       "      <td>905993.0</td>\n",
       "    </tr>\n",
       "  </tbody>\n",
       "</table>\n",
       "<p>156845 rows × 7 columns</p>\n",
       "</div>"
      ],
      "text/plain": [
       "          category_cc   join_date                   channel  \\\n",
       "29058           Music  2006-03-13  UCq-Fj5jknLsUf-MWSy4_brA   \n",
       "16032          Gaming  2010-04-29  UC-lHJZR3Gqxm24_Vd_AJ5Yw   \n",
       "43231   Howto & Style  2016-11-15  UC295-Dw_tDNtZXFeAPAW6Aw   \n",
       "35502       Education  2006-09-01  UCbCmjCuTUZos6Inko4u57UQ   \n",
       "40878   Entertainment  2006-09-20  UCpEhnqL0y41EpW2TvWAHD7Q   \n",
       "...               ...         ...                       ...   \n",
       "80084           Music  2017-07-27  UCbKqo5ccPuQad_17MoSxpvw   \n",
       "152522  Entertainment  2014-05-02  UC-AKZXBB30O4ZM5zVLGUPCg   \n",
       "118797          Music  2011-08-27  UCVXWrVUv_Pbt24btuuIDvqw   \n",
       "13068           Music  2016-04-30  UCu4TumUmUdU_YmbSuvEOvNg   \n",
       "10450   Entertainment  2016-07-09  UC0NKhQKs2rsCAeoQCGTHOHQ   \n",
       "\n",
       "                        name_cc  subscribers_cc  videos_cc  subscriber_rank_sb  \n",
       "29058                  T-Series       112139463      13839               102.0  \n",
       "16032                 PewDiePie       101000000       3956                 3.0  \n",
       "43231           5-Minute Crafts        60600000       3591                 9.0  \n",
       "35502   Cocomelon - Nursery ...        60100000        458                 7.0  \n",
       "40878                 SET India        56018869      32661                 8.0  \n",
       "...                         ...             ...        ...                 ...  \n",
       "80084                   Ayanami           10000         20            876195.0  \n",
       "152522             ArabianRider           10000        212            977030.0  \n",
       "118797                   Densle           10000         60            944207.0  \n",
       "13068   Trailer Music Empire...           10000        157            812348.0  \n",
       "10450       A'mari DJ Mona-Lisa           10000       1483            905993.0  \n",
       "\n",
       "[156845 rows x 7 columns]"
      ]
     },
     "execution_count": 23,
     "metadata": {},
     "output_type": "execute_result"
    }
   ],
   "source": [
    "    # Show to lines with missing value of subscribers_cc\n",
    "cleaned_channels.sort_values(by='subscribers_cc', ascending=False)"
   ]
  },
  {
   "cell_type": "markdown",
   "metadata": {},
   "source": [
    "The **subscriber_rank_sb** feature is incorrect, as we can se it above. We can recrate this column."
   ]
  },
  {
   "cell_type": "code",
   "execution_count": 25,
   "metadata": {},
   "outputs": [],
   "source": [
    "cleaned_channels['subscriber_rank_sb'] = cleaned_channels['subscribers_cc'].rank(ascending=False, method='dense')"
   ]
  },
  {
   "cell_type": "code",
   "execution_count": 26,
   "metadata": {},
   "outputs": [
    {
     "data": {
      "text/html": [
       "<div>\n",
       "<style scoped>\n",
       "    .dataframe tbody tr th:only-of-type {\n",
       "        vertical-align: middle;\n",
       "    }\n",
       "\n",
       "    .dataframe tbody tr th {\n",
       "        vertical-align: top;\n",
       "    }\n",
       "\n",
       "    .dataframe thead th {\n",
       "        text-align: right;\n",
       "    }\n",
       "</style>\n",
       "<table border=\"1\" class=\"dataframe\">\n",
       "  <thead>\n",
       "    <tr style=\"text-align: right;\">\n",
       "      <th></th>\n",
       "      <th>category_cc</th>\n",
       "      <th>join_date</th>\n",
       "      <th>channel</th>\n",
       "      <th>name_cc</th>\n",
       "      <th>subscribers_cc</th>\n",
       "      <th>videos_cc</th>\n",
       "      <th>subscriber_rank_sb</th>\n",
       "    </tr>\n",
       "  </thead>\n",
       "  <tbody>\n",
       "    <tr>\n",
       "      <th>29058</th>\n",
       "      <td>Music</td>\n",
       "      <td>2006-03-13</td>\n",
       "      <td>UCq-Fj5jknLsUf-MWSy4_brA</td>\n",
       "      <td>T-Series</td>\n",
       "      <td>112139463</td>\n",
       "      <td>13839</td>\n",
       "      <td>1.0</td>\n",
       "    </tr>\n",
       "    <tr>\n",
       "      <th>16032</th>\n",
       "      <td>Gaming</td>\n",
       "      <td>2010-04-29</td>\n",
       "      <td>UC-lHJZR3Gqxm24_Vd_AJ5Yw</td>\n",
       "      <td>PewDiePie</td>\n",
       "      <td>101000000</td>\n",
       "      <td>3956</td>\n",
       "      <td>2.0</td>\n",
       "    </tr>\n",
       "    <tr>\n",
       "      <th>43231</th>\n",
       "      <td>Howto &amp; Style</td>\n",
       "      <td>2016-11-15</td>\n",
       "      <td>UC295-Dw_tDNtZXFeAPAW6Aw</td>\n",
       "      <td>5-Minute Crafts</td>\n",
       "      <td>60600000</td>\n",
       "      <td>3591</td>\n",
       "      <td>3.0</td>\n",
       "    </tr>\n",
       "    <tr>\n",
       "      <th>35502</th>\n",
       "      <td>Education</td>\n",
       "      <td>2006-09-01</td>\n",
       "      <td>UCbCmjCuTUZos6Inko4u57UQ</td>\n",
       "      <td>Cocomelon - Nursery ...</td>\n",
       "      <td>60100000</td>\n",
       "      <td>458</td>\n",
       "      <td>4.0</td>\n",
       "    </tr>\n",
       "    <tr>\n",
       "      <th>40878</th>\n",
       "      <td>Entertainment</td>\n",
       "      <td>2006-09-20</td>\n",
       "      <td>UCpEhnqL0y41EpW2TvWAHD7Q</td>\n",
       "      <td>SET India</td>\n",
       "      <td>56018869</td>\n",
       "      <td>32661</td>\n",
       "      <td>5.0</td>\n",
       "    </tr>\n",
       "    <tr>\n",
       "      <th>...</th>\n",
       "      <td>...</td>\n",
       "      <td>...</td>\n",
       "      <td>...</td>\n",
       "      <td>...</td>\n",
       "      <td>...</td>\n",
       "      <td>...</td>\n",
       "      <td>...</td>\n",
       "    </tr>\n",
       "    <tr>\n",
       "      <th>80084</th>\n",
       "      <td>Music</td>\n",
       "      <td>2017-07-27</td>\n",
       "      <td>UCbKqo5ccPuQad_17MoSxpvw</td>\n",
       "      <td>Ayanami</td>\n",
       "      <td>10000</td>\n",
       "      <td>20</td>\n",
       "      <td>31237.0</td>\n",
       "    </tr>\n",
       "    <tr>\n",
       "      <th>152522</th>\n",
       "      <td>Entertainment</td>\n",
       "      <td>2014-05-02</td>\n",
       "      <td>UC-AKZXBB30O4ZM5zVLGUPCg</td>\n",
       "      <td>ArabianRider</td>\n",
       "      <td>10000</td>\n",
       "      <td>212</td>\n",
       "      <td>31237.0</td>\n",
       "    </tr>\n",
       "    <tr>\n",
       "      <th>118797</th>\n",
       "      <td>Music</td>\n",
       "      <td>2011-08-27</td>\n",
       "      <td>UCVXWrVUv_Pbt24btuuIDvqw</td>\n",
       "      <td>Densle</td>\n",
       "      <td>10000</td>\n",
       "      <td>60</td>\n",
       "      <td>31237.0</td>\n",
       "    </tr>\n",
       "    <tr>\n",
       "      <th>13068</th>\n",
       "      <td>Music</td>\n",
       "      <td>2016-04-30</td>\n",
       "      <td>UCu4TumUmUdU_YmbSuvEOvNg</td>\n",
       "      <td>Trailer Music Empire...</td>\n",
       "      <td>10000</td>\n",
       "      <td>157</td>\n",
       "      <td>31237.0</td>\n",
       "    </tr>\n",
       "    <tr>\n",
       "      <th>10450</th>\n",
       "      <td>Entertainment</td>\n",
       "      <td>2016-07-09</td>\n",
       "      <td>UC0NKhQKs2rsCAeoQCGTHOHQ</td>\n",
       "      <td>A'mari DJ Mona-Lisa</td>\n",
       "      <td>10000</td>\n",
       "      <td>1483</td>\n",
       "      <td>31237.0</td>\n",
       "    </tr>\n",
       "  </tbody>\n",
       "</table>\n",
       "<p>156845 rows × 7 columns</p>\n",
       "</div>"
      ],
      "text/plain": [
       "          category_cc   join_date                   channel  \\\n",
       "29058           Music  2006-03-13  UCq-Fj5jknLsUf-MWSy4_brA   \n",
       "16032          Gaming  2010-04-29  UC-lHJZR3Gqxm24_Vd_AJ5Yw   \n",
       "43231   Howto & Style  2016-11-15  UC295-Dw_tDNtZXFeAPAW6Aw   \n",
       "35502       Education  2006-09-01  UCbCmjCuTUZos6Inko4u57UQ   \n",
       "40878   Entertainment  2006-09-20  UCpEhnqL0y41EpW2TvWAHD7Q   \n",
       "...               ...         ...                       ...   \n",
       "80084           Music  2017-07-27  UCbKqo5ccPuQad_17MoSxpvw   \n",
       "152522  Entertainment  2014-05-02  UC-AKZXBB30O4ZM5zVLGUPCg   \n",
       "118797          Music  2011-08-27  UCVXWrVUv_Pbt24btuuIDvqw   \n",
       "13068           Music  2016-04-30  UCu4TumUmUdU_YmbSuvEOvNg   \n",
       "10450   Entertainment  2016-07-09  UC0NKhQKs2rsCAeoQCGTHOHQ   \n",
       "\n",
       "                        name_cc  subscribers_cc  videos_cc  subscriber_rank_sb  \n",
       "29058                  T-Series       112139463      13839                 1.0  \n",
       "16032                 PewDiePie       101000000       3956                 2.0  \n",
       "43231           5-Minute Crafts        60600000       3591                 3.0  \n",
       "35502   Cocomelon - Nursery ...        60100000        458                 4.0  \n",
       "40878                 SET India        56018869      32661                 5.0  \n",
       "...                         ...             ...        ...                 ...  \n",
       "80084                   Ayanami           10000         20             31237.0  \n",
       "152522             ArabianRider           10000        212             31237.0  \n",
       "118797                   Densle           10000         60             31237.0  \n",
       "13068   Trailer Music Empire...           10000        157             31237.0  \n",
       "10450       A'mari DJ Mona-Lisa           10000       1483             31237.0  \n",
       "\n",
       "[156845 rows x 7 columns]"
      ]
     },
     "execution_count": 26,
     "metadata": {},
     "output_type": "execute_result"
    }
   ],
   "source": [
    "cleaned_channels.sort_values(by = 'subscribers_cc', ascending=False)"
   ]
  },
  {
   "cell_type": "markdown",
   "metadata": {},
   "source": [
    "The problem is fixed"
   ]
  },
  {
   "cell_type": "markdown",
   "metadata": {},
   "source": [
    "### 5. Type conversion column"
   ]
  },
  {
   "cell_type": "markdown",
   "metadata": {},
   "source": [
    "The column **subscriber_rank_sb** is of the wrong type, we can convert it to int64."
   ]
  },
  {
   "cell_type": "code",
   "execution_count": 30,
   "metadata": {},
   "outputs": [],
   "source": [
    "cleaned_channels['subscriber_rank_sb'] = cleaned_channels['subscriber_rank_sb'].astype('int64')"
   ]
  },
  {
   "cell_type": "markdown",
   "metadata": {},
   "source": [
    "We can convert the **datetime** column to pd.datetime"
   ]
  },
  {
   "cell_type": "code",
   "execution_count": 33,
   "metadata": {},
   "outputs": [],
   "source": [
    "datetime_column = pd.to_datetime(cleaned_channels['join_date'])"
   ]
  },
  {
   "cell_type": "markdown",
   "metadata": {},
   "source": [
    "We can also create new columns for the year, the month and the day of creation of the channel."
   ]
  },
  {
   "cell_type": "code",
   "execution_count": null,
   "metadata": {},
   "outputs": [],
   "source": [
    "cleaned_channels['year'] = datetime_column.dt.year\n",
    "cleaned_channels['month'] = datetime_column.dt.month\n",
    "cleaned_channels['day'] = datetime_column.dt.day"
   ]
  },
  {
   "cell_type": "markdown",
   "metadata": {},
   "source": [
    "### 6. Final Dataset"
   ]
  },
  {
   "cell_type": "code",
   "execution_count": 96,
   "metadata": {},
   "outputs": [
    {
     "data": {
      "text/html": [
       "<div>\n",
       "<style scoped>\n",
       "    .dataframe tbody tr th:only-of-type {\n",
       "        vertical-align: middle;\n",
       "    }\n",
       "\n",
       "    .dataframe tbody tr th {\n",
       "        vertical-align: top;\n",
       "    }\n",
       "\n",
       "    .dataframe thead th {\n",
       "        text-align: right;\n",
       "    }\n",
       "</style>\n",
       "<table border=\"1\" class=\"dataframe\">\n",
       "  <thead>\n",
       "    <tr style=\"text-align: right;\">\n",
       "      <th></th>\n",
       "      <th>category_cc</th>\n",
       "      <th>join_date</th>\n",
       "      <th>channel</th>\n",
       "      <th>name_cc</th>\n",
       "      <th>subscribers_cc</th>\n",
       "      <th>videos_cc</th>\n",
       "      <th>subscriber_rank_sb</th>\n",
       "      <th>year</th>\n",
       "      <th>month</th>\n",
       "      <th>day</th>\n",
       "    </tr>\n",
       "  </thead>\n",
       "  <tbody>\n",
       "    <tr>\n",
       "      <th>0</th>\n",
       "      <td>Film and Animation</td>\n",
       "      <td>2017-05-21</td>\n",
       "      <td>UCBJuEqXfXTdcPSbGO9qqn1g</td>\n",
       "      <td>MagnusNation</td>\n",
       "      <td>65100</td>\n",
       "      <td>28</td>\n",
       "      <td>15856</td>\n",
       "      <td>2017</td>\n",
       "      <td>5</td>\n",
       "      <td>21</td>\n",
       "    </tr>\n",
       "    <tr>\n",
       "      <th>1</th>\n",
       "      <td>Entertainment</td>\n",
       "      <td>2011-12-13</td>\n",
       "      <td>UCkNW9Q1VR_aeZ6uht83jJVQ</td>\n",
       "      <td>Mago Dario Animazion...</td>\n",
       "      <td>60200</td>\n",
       "      <td>48</td>\n",
       "      <td>16388</td>\n",
       "      <td>2011</td>\n",
       "      <td>12</td>\n",
       "      <td>13</td>\n",
       "    </tr>\n",
       "    <tr>\n",
       "      <th>2</th>\n",
       "      <td>Music</td>\n",
       "      <td>2008-03-17</td>\n",
       "      <td>UCXhkGgooXHDNwgJXmoTSN7g</td>\n",
       "      <td>Mago Merlino</td>\n",
       "      <td>14800</td>\n",
       "      <td>838</td>\n",
       "      <td>27869</td>\n",
       "      <td>2008</td>\n",
       "      <td>3</td>\n",
       "      <td>17</td>\n",
       "    </tr>\n",
       "    <tr>\n",
       "      <th>3</th>\n",
       "      <td>Entertainment</td>\n",
       "      <td>2014-10-19</td>\n",
       "      <td>UCvZGsuvKlYOGiZTsxwJNS5Q</td>\n",
       "      <td>MAGO TOMÁS</td>\n",
       "      <td>26200</td>\n",
       "      <td>31</td>\n",
       "      <td>22950</td>\n",
       "      <td>2014</td>\n",
       "      <td>10</td>\n",
       "      <td>19</td>\n",
       "    </tr>\n",
       "    <tr>\n",
       "      <th>4</th>\n",
       "      <td>Comedy</td>\n",
       "      <td>2017-01-15</td>\n",
       "      <td>UCxJWPpPED-J24znoKyKZYjg</td>\n",
       "      <td>Magog of Morskar</td>\n",
       "      <td>29400</td>\n",
       "      <td>158</td>\n",
       "      <td>21938</td>\n",
       "      <td>2017</td>\n",
       "      <td>1</td>\n",
       "      <td>15</td>\n",
       "    </tr>\n",
       "  </tbody>\n",
       "</table>\n",
       "</div>"
      ],
      "text/plain": [
       "          category_cc   join_date                   channel  \\\n",
       "0  Film and Animation  2017-05-21  UCBJuEqXfXTdcPSbGO9qqn1g   \n",
       "1       Entertainment  2011-12-13  UCkNW9Q1VR_aeZ6uht83jJVQ   \n",
       "2               Music  2008-03-17  UCXhkGgooXHDNwgJXmoTSN7g   \n",
       "3       Entertainment  2014-10-19  UCvZGsuvKlYOGiZTsxwJNS5Q   \n",
       "4              Comedy  2017-01-15  UCxJWPpPED-J24znoKyKZYjg   \n",
       "\n",
       "                   name_cc  subscribers_cc  videos_cc  subscriber_rank_sb  \\\n",
       "0             MagnusNation           65100         28               15856   \n",
       "1  Mago Dario Animazion...           60200         48               16388   \n",
       "2             Mago Merlino           14800        838               27869   \n",
       "3               MAGO TOMÁS           26200         31               22950   \n",
       "4         Magog of Morskar           29400        158               21938   \n",
       "\n",
       "   year  month  day  \n",
       "0  2017      5   21  \n",
       "1  2011     12   13  \n",
       "2  2008      3   17  \n",
       "3  2014     10   19  \n",
       "4  2017      1   15  "
      ]
     },
     "execution_count": 96,
     "metadata": {},
     "output_type": "execute_result"
    }
   ],
   "source": [
    "cleaned_channels.head()"
   ]
  },
  {
   "cell_type": "code",
   "execution_count": 99,
   "metadata": {},
   "outputs": [
    {
     "name": "stdout",
     "output_type": "stream",
     "text": [
      "<class 'pandas.core.frame.DataFrame'>\n",
      "Index: 156845 entries, 0 to 156976\n",
      "Data columns (total 10 columns):\n",
      " #   Column              Non-Null Count   Dtype \n",
      "---  ------              --------------   ----- \n",
      " 0   category_cc         156845 non-null  object\n",
      " 1   join_date           156845 non-null  object\n",
      " 2   channel             156845 non-null  object\n",
      " 3   name_cc             156845 non-null  object\n",
      " 4   subscribers_cc      156845 non-null  int64 \n",
      " 5   videos_cc           156845 non-null  int64 \n",
      " 6   subscriber_rank_sb  156845 non-null  int64 \n",
      " 7   year                156845 non-null  int32 \n",
      " 8   month               156845 non-null  int32 \n",
      " 9   day                 156845 non-null  int32 \n",
      "dtypes: int32(3), int64(3), object(4)\n",
      "memory usage: 11.4+ MB\n"
     ]
    }
   ],
   "source": [
    "cleaned_channels.info()"
   ]
  },
  {
   "cell_type": "markdown",
   "metadata": {},
   "source": [
    "### 7. Full cleaning pipeline"
   ]
  },
  {
   "cell_type": "markdown",
   "metadata": {},
   "source": [
    "After testing various preprocessing steps, we've combined them into a single cleaning pipeline that performs all the necessary tasks, including handling missing data, removing irrelevant rows, ranking channels by subscriber count, and creating date features."
   ]
  },
  {
   "cell_type": "code",
   "execution_count": 37,
   "metadata": {},
   "outputs": [],
   "source": [
    "def cleaning_pipeline(data):\n",
    "\n",
    "    cleaned_data = data.copy()\n",
    "    \n",
    "        # delete the line with joint_data = NaN\n",
    "    cleaned_data.drop(33540, inplace = True)\n",
    "\n",
    "        # remplace name_cc that are NaN by 'unknown name'\n",
    "    cleaned_data['name_cc'].fillna('unknown name', inplace=True)\n",
    "\n",
    "        # drop channels with unknown category\n",
    "    cleaned_data = cleaned_data[cleaned_data['category_cc'].notna()]\n",
    "\n",
    "        # recreate the subscriber_rank_sb\n",
    "    cleaned_data['subscriber_rank_sb'] = cleaned_data['subscribers_cc'].rank(ascending=False, method='dense')\n",
    "\n",
    "        # subscriber_rank_sb type conversion\n",
    "    cleaned_data['subscriber_rank_sb'] = cleaned_data['subscriber_rank_sb'].astype('int64')\n",
    "\n",
    "        # date feature creation\n",
    "    datetime_column = pd.to_datetime(cleaned_data['join_date'])\n",
    "    cleaned_data['year'] = datetime_column.dt.year\n",
    "    cleaned_data['month'] = datetime_column.dt.month\n",
    "    cleaned_data['day'] = datetime_column.dt.day\n",
    "\n",
    "    return cleaned_data\n",
    "    "
   ]
  },
  {
   "cell_type": "markdown",
   "metadata": {},
   "source": [
    "## II - Timeseries Dataset Data Cleaning"
   ]
  },
  {
   "cell_type": "markdown",
   "metadata": {},
   "source": [
    "The following steps will focus on data preprocessing of the dataset time_series to prepare it for further analysis."
   ]
  },
  {
   "cell_type": "code",
   "execution_count": 40,
   "metadata": {},
   "outputs": [
    {
     "name": "stdout",
     "output_type": "stream",
     "text": [
      "Loading data...\n"
     ]
    }
   ],
   "source": [
    "print(\"Loading data...\")\n",
    "data_path = ''\n",
    "time_series = pd.read_csv(data_path + '\\df_timeseries.tsv', sep='\\t')"
   ]
  },
  {
   "cell_type": "code",
   "execution_count": 42,
   "metadata": {},
   "outputs": [],
   "source": [
    "MongoDB connection\n",
    "channels_weekly_time_series = db_connection.connect_to_mongodb(\"Channels Weekly Time Series\")\n",
    "channels_time_series  = db_methods.retrieve_all_channels_from_mongodb(channels_weekly_time_series)"
   ]
  },
  {
   "cell_type": "markdown",
   "metadata": {},
   "source": [
    "### 1. Handling missing values"
   ]
  },
  {
   "cell_type": "markdown",
   "metadata": {},
   "source": [
    "time_series.info()"
   ]
  },
  {
   "cell_type": "markdown",
   "metadata": {},
   "source": [
    "Since the dataset is to big, we can't see wich column have missing value, let's try another thing."
   ]
  },
  {
   "cell_type": "code",
   "execution_count": 44,
   "metadata": {},
   "outputs": [
    {
     "name": "stdout",
     "output_type": "stream",
     "text": [
      "Columns with missing values : ['category']\n"
     ]
    }
   ],
   "source": [
    "col_with_missing_values = [col for col in time_series.columns if time_series[col].isnull().sum() > 0]\n",
    "\n",
    "print(\"Columns with missing values :\", col_with_missing_values)"
   ]
  },
  {
   "cell_type": "markdown",
   "metadata": {},
   "source": [
    "Only the category column has missing values. We can investigate what percentage of values are missing."
   ]
  },
  {
   "cell_type": "code",
   "execution_count": 45,
   "metadata": {},
   "outputs": [
    {
     "name": "stdout",
     "output_type": "stream",
     "text": [
      "0.09709725240015055 % of categories values are missing\n"
     ]
    }
   ],
   "source": [
    "number_of_missing_categories = time_series['category'].isna().sum()\n",
    "print(f'{ 100 * number_of_missing_categories/len(time_series)} % of categories values are missing')"
   ]
  },
  {
   "cell_type": "markdown",
   "metadata": {},
   "source": [
    "Less than **0.1%** of channels have unknown category, we can drop them."
   ]
  },
  {
   "cell_type": "code",
   "execution_count": 47,
   "metadata": {},
   "outputs": [],
   "source": [
    "cleaned_time_series = time_series[time_series['category'].notna()]"
   ]
  },
  {
   "cell_type": "markdown",
   "metadata": {},
   "source": [
    "It was the only problem of this dataset, we can also convert the datetime column to pd.datetime"
   ]
  },
  {
   "cell_type": "markdown",
   "metadata": {},
   "source": [
    "We can create a pipeline that performs cleaning and data conversion."
   ]
  },
  {
   "cell_type": "markdown",
   "metadata": {},
   "source": [
    "### 2.Full cleaning Pipeline"
   ]
  },
  {
   "cell_type": "markdown",
   "metadata": {},
   "source": [
    "We can combine these two steps into a cleaning pipeline."
   ]
  },
  {
   "cell_type": "code",
   "execution_count": 49,
   "metadata": {},
   "outputs": [],
   "source": [
    "\n",
    "def time_series_cleaning_pipeline(data):\n",
    "\n",
    "    data = data.copy()\n",
    "        # Remove the lines with unknown category\n",
    "    data = data[data['category'].notna()]\n",
    "        # turn the datatime column to a pd.datetime\n",
    "    data['datetime'] = pd.to_datetime(data['datetime'])\n",
    "\n",
    "    return data\n",
    "    "
   ]
  }
 ],
 "metadata": {
  "kernelspec": {
   "display_name": "Python 3",
   "language": "python",
   "name": "python3"
  },
  "language_info": {
   "codemirror_mode": {
    "name": "ipython",
    "version": 3
   },
   "file_extension": ".py",
   "mimetype": "text/x-python",
   "name": "python",
   "nbconvert_exporter": "python",
   "pygments_lexer": "ipython3",
   "version": "3.11.9"
  }
 },
 "nbformat": 4,
 "nbformat_minor": 4
}
